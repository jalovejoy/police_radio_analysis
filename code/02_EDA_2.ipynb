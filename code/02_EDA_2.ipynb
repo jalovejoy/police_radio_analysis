{
 "cells": [
  {
   "cell_type": "markdown",
   "metadata": {},
   "source": [
    "# Police Radio Analysis: Exploratory Data Analysis\n",
    "*** "
   ]
  },
  {
   "cell_type": "code",
   "execution_count": 14,
   "metadata": {
    "scrolled": true
   },
   "outputs": [],
   "source": [
    "# !pip install nltk scikit-learn\n",
    "# !python -m nltk.downloader all\n",
    "# !pip install -U textblob\n",
    "# !python -m textblob.download_corpora"
   ]
  },
  {
   "cell_type": "code",
   "execution_count": 4,
   "metadata": {},
   "outputs": [],
   "source": [
    "# Imports\n",
    "import pandas as pd\n",
    "import matplotlib.pyplot as plt\n",
    "from textblob import TextBlob\n",
    "\n",
    "%matplotlib inline"
   ]
  },
  {
   "cell_type": "code",
   "execution_count": 9,
   "metadata": {},
   "outputs": [],
   "source": [
    "master = pd.read_pickle('../data/sentence.pkl')"
   ]
  },
  {
   "cell_type": "code",
   "execution_count": 10,
   "metadata": {},
   "outputs": [
    {
     "data": {
      "text/html": [
       "<div>\n",
       "<style scoped>\n",
       "    .dataframe tbody tr th:only-of-type {\n",
       "        vertical-align: middle;\n",
       "    }\n",
       "\n",
       "    .dataframe tbody tr th {\n",
       "        vertical-align: top;\n",
       "    }\n",
       "\n",
       "    .dataframe thead th {\n",
       "        text-align: right;\n",
       "    }\n",
       "</style>\n",
       "<table border=\"1\" class=\"dataframe\">\n",
       "  <thead>\n",
       "    <tr style=\"text-align: right;\">\n",
       "      <th></th>\n",
       "      <th>text</th>\n",
       "      <th>speaker_start</th>\n",
       "      <th>speaker_end</th>\n",
       "      <th>speaker_length</th>\n",
       "      <th>speaker</th>\n",
       "      <th>sentence</th>\n",
       "      <th>word_confidence</th>\n",
       "      <th>avg_confidence</th>\n",
       "      <th>min_conf</th>\n",
       "      <th>feed</th>\n",
       "      <th>...</th>\n",
       "      <th>feed_name</th>\n",
       "      <th>department</th>\n",
       "      <th>INTPTLON</th>\n",
       "      <th>INTPTLAT</th>\n",
       "      <th>ID_PLACES</th>\n",
       "      <th>text_clean</th>\n",
       "      <th>contains_fire</th>\n",
       "      <th>contains_evac</th>\n",
       "      <th>start_time</th>\n",
       "      <th>end_time</th>\n",
       "    </tr>\n",
       "  </thead>\n",
       "  <tbody>\n",
       "    <tr>\n",
       "      <th>0</th>\n",
       "      <td>sixty five area behind a wall . Or , you know ...</td>\n",
       "      <td>211.565</td>\n",
       "      <td>214.715</td>\n",
       "      <td>3.15</td>\n",
       "      <td>spk_2</td>\n",
       "      <td>9</td>\n",
       "      <td>[0.6995, 0.7236, 0.9781, 1.0, 0.4078, 0.407, n...</td>\n",
       "      <td>0.836407</td>\n",
       "      <td>0.1454</td>\n",
       "      <td>201811080841-581016-26936_</td>\n",
       "      <td>...</td>\n",
       "      <td>Oroville_Police_Fire</td>\n",
       "      <td>BOTH</td>\n",
       "      <td>[]</td>\n",
       "      <td>[]</td>\n",
       "      <td>[]</td>\n",
       "      <td>sixty five area behind a wall or you know i m ...</td>\n",
       "      <td>0</td>\n",
       "      <td>0</td>\n",
       "      <td>2018-11-08 06:44:31-08:00</td>\n",
       "      <td>2018-11-08 06:44:34-08:00</td>\n",
       "    </tr>\n",
       "    <tr>\n",
       "      <th>1</th>\n",
       "      <td>top of the old feather over our way for a girl...</td>\n",
       "      <td>255.925</td>\n",
       "      <td>257.655</td>\n",
       "      <td>1.73</td>\n",
       "      <td>spk_1</td>\n",
       "      <td>12</td>\n",
       "      <td>[0.2531, 0.2075, 0.4166, 0.4302, 0.3133, 0.952...</td>\n",
       "      <td>0.606465</td>\n",
       "      <td>0.2075</td>\n",
       "      <td>201811080841-581016-26936_</td>\n",
       "      <td>...</td>\n",
       "      <td>Oroville_Police_Fire</td>\n",
       "      <td>BOTH</td>\n",
       "      <td>[]</td>\n",
       "      <td>[]</td>\n",
       "      <td>[]</td>\n",
       "      <td>top of the old feather over our way for a girl...</td>\n",
       "      <td>0</td>\n",
       "      <td>0</td>\n",
       "      <td>2018-11-08 06:45:15-08:00</td>\n",
       "      <td>2018-11-08 06:45:17-08:00</td>\n",
       "    </tr>\n",
       "    <tr>\n",
       "      <th>2</th>\n",
       "      <td>Justin Maguire is clear and counting down from...</td>\n",
       "      <td>1095.9</td>\n",
       "      <td>1097.17</td>\n",
       "      <td>1.27</td>\n",
       "      <td>spk_5</td>\n",
       "      <td>34</td>\n",
       "      <td>[0.5408, 0.8856, 0.9149, 1.0, 0.6942, 0.8126, ...</td>\n",
       "      <td>0.806101</td>\n",
       "      <td>0.1303</td>\n",
       "      <td>201811080841-581016-26936_</td>\n",
       "      <td>...</td>\n",
       "      <td>Oroville_Police_Fire</td>\n",
       "      <td>BOTH</td>\n",
       "      <td>[-121.6064, -118.602213]</td>\n",
       "      <td>[39.7541919, 37.4828526]</td>\n",
       "      <td>[PARADISE, PARADISE]</td>\n",
       "      <td>justin maguire is clear and counting down from...</td>\n",
       "      <td>0</td>\n",
       "      <td>0</td>\n",
       "      <td>2018-11-08 06:59:15-08:00</td>\n",
       "      <td>2018-11-08 06:59:17-08:00</td>\n",
       "    </tr>\n",
       "    <tr>\n",
       "      <th>3</th>\n",
       "      <td>e</td>\n",
       "      <td>99.34</td>\n",
       "      <td>99.68</td>\n",
       "      <td>0.34</td>\n",
       "      <td>spk_4</td>\n",
       "      <td>2</td>\n",
       "      <td>[0.5987]</td>\n",
       "      <td>0.598700</td>\n",
       "      <td>0.5987</td>\n",
       "      <td>201811080858-659667-24574_</td>\n",
       "      <td>...</td>\n",
       "      <td>Oroville_Fire</td>\n",
       "      <td>FIRE</td>\n",
       "      <td>[]</td>\n",
       "      <td>[]</td>\n",
       "      <td>[]</td>\n",
       "      <td>e</td>\n",
       "      <td>0</td>\n",
       "      <td>0</td>\n",
       "      <td>2018-11-08 06:59:39-08:00</td>\n",
       "      <td>2018-11-08 06:59:39-08:00</td>\n",
       "    </tr>\n",
       "    <tr>\n",
       "      <th>4</th>\n",
       "      <td>seventy</td>\n",
       "      <td>99.68</td>\n",
       "      <td>100.14</td>\n",
       "      <td>0.46</td>\n",
       "      <td>spk_1</td>\n",
       "      <td>3</td>\n",
       "      <td>[0.9993]</td>\n",
       "      <td>0.999300</td>\n",
       "      <td>0.9993</td>\n",
       "      <td>201811080858-659667-24574_</td>\n",
       "      <td>...</td>\n",
       "      <td>Oroville_Fire</td>\n",
       "      <td>FIRE</td>\n",
       "      <td>[]</td>\n",
       "      <td>[]</td>\n",
       "      <td>[]</td>\n",
       "      <td>seventy</td>\n",
       "      <td>0</td>\n",
       "      <td>0</td>\n",
       "      <td>2018-11-08 06:59:39-08:00</td>\n",
       "      <td>2018-11-08 06:59:40-08:00</td>\n",
       "    </tr>\n",
       "  </tbody>\n",
       "</table>\n",
       "<p>5 rows × 22 columns</p>\n",
       "</div>"
      ],
      "text/plain": [
       "                                                text speaker_start  \\\n",
       "0  sixty five area behind a wall . Or , you know ...       211.565   \n",
       "1  top of the old feather over our way for a girl...       255.925   \n",
       "2  Justin Maguire is clear and counting down from...        1095.9   \n",
       "3                                                 e          99.34   \n",
       "4                                           seventy          99.68   \n",
       "\n",
       "  speaker_end speaker_length speaker sentence  \\\n",
       "0     214.715           3.15   spk_2        9   \n",
       "1     257.655           1.73   spk_1       12   \n",
       "2     1097.17           1.27   spk_5       34   \n",
       "3       99.68           0.34   spk_4        2   \n",
       "4      100.14           0.46   spk_1        3   \n",
       "\n",
       "                                     word_confidence  avg_confidence min_conf  \\\n",
       "0  [0.6995, 0.7236, 0.9781, 1.0, 0.4078, 0.407, n...        0.836407   0.1454   \n",
       "1  [0.2531, 0.2075, 0.4166, 0.4302, 0.3133, 0.952...        0.606465   0.2075   \n",
       "2  [0.5408, 0.8856, 0.9149, 1.0, 0.6942, 0.8126, ...        0.806101   0.1303   \n",
       "3                                           [0.5987]        0.598700   0.5987   \n",
       "4                                           [0.9993]        0.999300   0.9993   \n",
       "\n",
       "                         feed  ...             feed_name department  \\\n",
       "0  201811080841-581016-26936_  ...  Oroville_Police_Fire       BOTH   \n",
       "1  201811080841-581016-26936_  ...  Oroville_Police_Fire       BOTH   \n",
       "2  201811080841-581016-26936_  ...  Oroville_Police_Fire       BOTH   \n",
       "3  201811080858-659667-24574_  ...         Oroville_Fire       FIRE   \n",
       "4  201811080858-659667-24574_  ...         Oroville_Fire       FIRE   \n",
       "\n",
       "                   INTPTLON                  INTPTLAT             ID_PLACES  \\\n",
       "0                        []                        []                    []   \n",
       "1                        []                        []                    []   \n",
       "2  [-121.6064, -118.602213]  [39.7541919, 37.4828526]  [PARADISE, PARADISE]   \n",
       "3                        []                        []                    []   \n",
       "4                        []                        []                    []   \n",
       "\n",
       "                                          text_clean contains_fire  \\\n",
       "0  sixty five area behind a wall or you know i m ...             0   \n",
       "1  top of the old feather over our way for a girl...             0   \n",
       "2  justin maguire is clear and counting down from...             0   \n",
       "3                                                  e             0   \n",
       "4                                            seventy             0   \n",
       "\n",
       "  contains_evac                start_time                  end_time  \n",
       "0             0 2018-11-08 06:44:31-08:00 2018-11-08 06:44:34-08:00  \n",
       "1             0 2018-11-08 06:45:15-08:00 2018-11-08 06:45:17-08:00  \n",
       "2             0 2018-11-08 06:59:15-08:00 2018-11-08 06:59:17-08:00  \n",
       "3             0 2018-11-08 06:59:39-08:00 2018-11-08 06:59:39-08:00  \n",
       "4             0 2018-11-08 06:59:39-08:00 2018-11-08 06:59:40-08:00  \n",
       "\n",
       "[5 rows x 22 columns]"
      ]
     },
     "execution_count": 10,
     "metadata": {},
     "output_type": "execute_result"
    }
   ],
   "source": [
    "master.head()"
   ]
  },
  {
   "cell_type": "code",
   "execution_count": 11,
   "metadata": {
    "scrolled": true
   },
   "outputs": [],
   "source": [
    "text = []\n",
    "for X in master.text_clean:\n",
    "    text.append(X)\n",
    "\n",
    "polarity = []\n",
    "subjectivity = []\n",
    "for i in range(len(text)):\n",
    "    blob = TextBlob(text[i])\n",
    "    blob.tags           \n",
    "    blob.noun_phrases\n",
    "\n",
    "    for sentence in blob.sentences:\n",
    "        polarity.append(sentence.sentiment.polarity)\n",
    "        subjectivity.append(sentence.sentiment.subjectivity)"
   ]
  },
  {
   "cell_type": "code",
   "execution_count": 12,
   "metadata": {
    "scrolled": false
   },
   "outputs": [
    {
     "data": {
      "image/png": "[encoded data removed]",
      "text/plain": [
       "<Figure size 1080x720 with 1 Axes>"
      ]
     },
     "metadata": {
      "needs_background": "light"
     },
     "output_type": "display_data"
    }
   ],
   "source": [
    "plt.figure(figsize=[15,10])\n",
    "plt.scatter(master.speaker_start, polarity);"
   ]
  },
  {
   "cell_type": "code",
   "execution_count": 13,
   "metadata": {},
   "outputs": [
    {
     "data": {
      "image/png": "[encoded data removed]",
      "text/plain": [
       "<Figure size 1080x720 with 1 Axes>"
      ]
     },
     "metadata": {
      "needs_background": "light"
     },
     "output_type": "display_data"
    }
   ],
   "source": [
    "plt.figure(figsize=[15,10])\n",
    "plt.scatter(master.speaker_start, subjectivity);"
   ]
  }
 ],
 "metadata": {
  "kernelspec": {
   "display_name": "Python 3",
   "language": "python",
   "name": "python3"
  },
  "language_info": {
   "codemirror_mode": {
    "name": "ipython",
    "version": 3
   },
   "file_extension": ".py",
   "mimetype": "text/x-python",
   "name": "python",
   "nbconvert_exporter": "python",
   "pygments_lexer": "ipython3",
   "version": "3.6.8"
  }
 },
 "nbformat": 4,
 "nbformat_minor": 2
}
